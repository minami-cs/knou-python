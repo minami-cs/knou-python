{
  "nbformat": 4,
  "nbformat_minor": 0,
  "metadata": {
    "colab": {
      "provenance": [],
      "include_colab_link": true
    },
    "kernelspec": {
      "name": "python3",
      "display_name": "Python 3"
    },
    "language_info": {
      "name": "python"
    }
  },
  "cells": [
    {
      "cell_type": "markdown",
      "metadata": {
        "id": "view-in-github",
        "colab_type": "text"
      },
      "source": [
        "<a href=\"https://colab.research.google.com/github/minami-cs/knou-python/blob/main/chapter13.ipynb\" target=\"_parent\"><img src=\"https://colab.research.google.com/assets/colab-badge.svg\" alt=\"Open In Colab\"/></a>"
      ]
    },
    {
      "cell_type": "markdown",
      "source": [
        "**틱택토 게임 설계**\n",
        "\n",
        "1.   2차원 리스트를 사용하여 게임판을 생성하고 각각의 칸을 빈칸으로 초기화\n",
        "> *   빈칸에 대한 지정한 기호(*)를 사용\n",
        "\n",
        "2.   게임판에 빈칸이 남아있는지 확인\n",
        "> *   게임판 전체를 확인하고 True/False 반환\n",
        "\n",
        "3. 둘 중 한 플레이어가 승리했는지 확인\n",
        "> *   8가지의 승리 상황에 따른 가능성을 확인\n",
        "> *   각각의 행, 열과 두 개의 대각선 방향을 확인\n",
        "\n",
        "4. 게임판의 현재 상태를 출력\n",
        "5. 게임 시작\n",
        "> *   무작위로 선공할 플레이어를 선택\n",
        "> *   게임 루프를 기동\n",
        "> *   게임판의 현재 상태를 출력하고 다음 플레이어가 빈칸을 선택\n",
        "> *   플레이어가 선택할 빈칸의 위치(행과 열 번호)를 입력받음\n",
        ">> *   사용자일 경우 사용자 입력을 통해 행과 열 번호를 입력받음\n",
        ">> *   컴퓨터일 경우 무작위로 행과 열 번호를 선택\n",
        "> *   플레이어가 선택한 위치에 기호를 표시하고 게임판을 업데이트\n",
        "> *   현재 플레이어가 승리했는지 확인\n",
        ">> *   승리 상황인 경우, 승리한 플레이어에 대한 메시지를 출력하고 게임 루프를 종료\n",
        "> *   게임판에 빈칸이 남아있는지 확인\n",
        ">> *   게임판이 가득찬 경우, 무승부 메시지를 출력하고\n",
        "게임 루프를 종료\n"
      ],
      "metadata": {
        "id": "3k1c-okAgqA7"
      }
    },
    {
      "cell_type": "code",
      "execution_count": null,
      "metadata": {
        "id": "AXszvhGpqkw0"
      },
      "outputs": [],
      "source": [
        "class Tic_Tac_Toe:\n",
        "    # 게임판 생성 - 게임이 실행되자마자 생성되어야 한다\n",
        "    def __init__(self):    # 클래스에서 객체가 만들어질 때 자동적으로 호출, 초기화되며 항상 __init__으로 명명한다.\n",
        "\n",
        "    # 게임판 초기화\n",
        "    def create_board(self):\n",
        "\n",
        "    # 첫 플레이어 선택\n",
        "    def select_first_player(self):\n",
        "\n",
        "    # 기호 표시\n",
        "    def mark_spot(self, row, col, player):\n",
        "\n",
        "    # 승리 상태 확인\n",
        "    def is_winner(self, player): # is~ 형태의 메소드 이름은 대체로 무언가를 물을 때 자주 쓰이고 반환은 주로 True / False이다.\n",
        "\n",
        "       # 행 확인\n",
        "       # 열 확인\n",
        "       # 대각선 확인\n",
        "\n",
        "    # 잔여 빈칸 여부 확인\n",
        "    def is_board_full(self):\n",
        "\n",
        "    # 플레이어 변경\n",
        "    def switch_player(self, player):\n",
        "\n",
        "    # 현재 게임판 상태 츌력\n",
        "    def show_current_board(self):\n",
        "\n",
        "    # 게임 시작\n",
        "    def start(self):\n",
        "        # 위에서 선언한 메소드들을 게임시작 구간에서 하나하나 호출해야 한다.\n",
        "        # 새 게임판 생성\n",
        "\n",
        "        # 첫 플레이어 선택\n",
        "\n",
        "        # 게임 루프 시작\n",
        "        while True:\n",
        "\n",
        "            # 다음 플레이어 안내\n",
        "\n",
        "            # 현재 게임판 상태 출력\n",
        "\n",
        "            # 사용자 입력 대기, 컴퓨터일 경우 랜덤 위치 반환\n",
        "\n",
        "            # row, col 입력값이 0, 0인 경우 게임 종료\n",
        "\n",
        "            # 입력된 위치 표시\n",
        "\n",
        "            # 현재 플레이어가 이겼는지 확인\n",
        "\n",
        "            # 게임판 가득참 확인\n",
        "\n",
        "            # 플레이어 변경\n",
        "\n",
        "        # 최종 게임판 출력\n",
        "\n",
        "\n",
        "# 게임 생성\n",
        "TTT = Tic_Tac_Toe():\n",
        "\n",
        "# 게임 시작\n",
        "TTT.start() :"
      ]
    }
  ]
}