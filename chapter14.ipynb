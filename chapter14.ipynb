{
  "nbformat": 4,
  "nbformat_minor": 0,
  "metadata": {
    "colab": {
      "provenance": [],
      "include_colab_link": true
    },
    "kernelspec": {
      "name": "python3",
      "display_name": "Python 3"
    },
    "language_info": {
      "name": "python"
    }
  },
  "cells": [
    {
      "cell_type": "markdown",
      "metadata": {
        "id": "view-in-github",
        "colab_type": "text"
      },
      "source": [
        "<a href=\"https://colab.research.google.com/github/minami-cs/knou-python/blob/main/chapter14.ipynb\" target=\"_parent\"><img src=\"https://colab.research.google.com/assets/colab-badge.svg\" alt=\"Open In Colab\"/></a>"
      ]
    },
    {
      "cell_type": "markdown",
      "source": [
        "**틱택토 게임 설계**\n",
        "\n",
        "1.   2차원 리스트를 사용하여 게임판을 생성하고 각각의 칸을 빈칸으로 초기화\n",
        "> *   빈칸에 대한 지정한 기호(*)를 사용\n",
        "\n",
        "2.   게임판에 빈칸이 남아있는지 확인\n",
        "> *   게임판 전체를 확인하고 True/False 반환\n",
        "\n",
        "3. 둘 중 한 플레이어가 승리했는지 확인\n",
        "> *   8가지의 승리 상황에 따른 가능성을 확인\n",
        "> *   각각의 행, 열과 두 개의 대각선 방향을 확인\n",
        "\n",
        "4. 게임판의 현재 상태를 출력\n",
        "5. 게임 시작\n",
        "> *   무작위로 선공할 플레이어를 선택\n",
        "> *   게임 루프를 기동\n",
        "> *   게임판의 현재 상태를 출력하고 다음 플레이어가 빈칸을 선택\n",
        "> *   플레이어가 선택할 빈칸의 위치(행과 열 번호)를 입력받음\n",
        ">> *   사용자일 경우 사용자 입력을 통해 행과 열 번호를 입력받음\n",
        ">> *   컴퓨터일 경우 무작위로 행과 열 번호를 선택\n",
        "> *   플레이어가 선택한 위치에 기호를 표시하고 게임판을 업데이트\n",
        "> *   현재 플레이어가 승리했는지 확인\n",
        ">> *   승리 상황인 경우, 승리한 플레이어에 대한 메시지를 출력하고 게임 루프를 종료\n",
        "> *   게임판에 빈칸이 남아있는지 확인\n",
        ">> *   게임판이 가득찬 경우, 무승부 메시지를 출력하고 게임 루프를 종료\n",
        "> *   게임이 종료될때까지 게임루프를 반복\n"
      ],
      "metadata": {
        "id": "pKWBQ2Os8a1e"
      }
    },
    {
      "cell_type": "code",
      "execution_count": null,
      "metadata": {
        "id": "AXszvhGpqkw0"
      },
      "outputs": [],
      "source": [
        "import random\n",
        "\n",
        "class Tic_Tac_Toe:\n",
        "    # 게임판 생성\n",
        "    def __init__(self):\n",
        "        # board는 리스트이므로 []로 리스트 생성\n",
        "        self.board = []    # Tic_Tac_Toe 클래스 전역에서 사용하기 위해 앞에 self.를 붙여준다\n",
        "\n",
        "    # 게임판 초기화\n",
        "    def create_board(self):\n",
        "        for i in range(3):\n",
        "            row = []    # 하나의 행 생성\n",
        "            for j in range(3):\n",
        "                row.append('*')    # '*'로 채운 3개의 칸 만들기\n",
        "            self.board.append(row)    # self.board(게임판)에 앞에서 만든 row를 넣는다\n",
        "\n",
        "    # 첫 플레이어 선택\n",
        "    def select_first_player(self):\n",
        "        # 무작위로 둘 중에 하나를 선택한다 ex) 0이면 컴퓨터, 1이면 사용자 등\n",
        "        if random.randint(0, 1) == 0:    # range(0, 3) 범위는 0,1,2이지만 randint(0, 3) 범위는 0,1,2,3이므로 유의\n",
        "            return 'X'\n",
        "        else:\n",
        "            return 'O'\n",
        "\n",
        "    # 기호 표시\n",
        "    def mark_spot(self, row, col, player):\n",
        "        # 게임판의 행, 열 값에 플레이어의 말을 표시해야 하므로 []를 통해 리스트를 생성한다\n",
        "        self.board[row][col] = player\n",
        "\n",
        "    # 승리 상태 확인\n",
        "    def is_win(self, player):   # is~로 시작하는 메소드이니 리턴값은 True/False 예상\n",
        "        n = len(self.board)\n",
        "\n",
        "        # 행 확인\n",
        "        for i in range(n):\n",
        "            win = True\n",
        "            for j in range(n):\n",
        "                if self.board[i][j] != player:\n",
        "                    win = False\n",
        "                    break\n",
        "            if win == True:\n",
        "                return win\n",
        "\n",
        "        # 열 확인\n",
        "        for i in range(n):\n",
        "            win = True\n",
        "            for j in range(n):\n",
        "                if self.board[j][i] != player:\n",
        "                    win = False\n",
        "                    break\n",
        "            if win == True:\n",
        "                return win\n",
        "\n",
        "        # 대각선 확인\n",
        "        win = True\n",
        "        for i in range(n):\n",
        "            if self.board[i][i] != player:\n",
        "                win = False\n",
        "                break\n",
        "        if win == True:\n",
        "            return win\n",
        "\n",
        "        # 행, 열, 대각선 모두 확인 후에도 승리 상황이 아닐 때는 False 반환\n",
        "        return False\n",
        "\n",
        "    # 잔여 빈칸 여부 확인\n",
        "    def is_board_full(self):\n",
        "\n",
        "    # 플레이어 변경\n",
        "    def next_player(self, player):\n",
        "\n",
        "    # 현재 게임판 상태 출력\n",
        "    def show_board(self):\n",
        "\n",
        "    # 게임 시작\n",
        "    def start(self):\n",
        "\n",
        "\n",
        "\n",
        "# 게임 생성\n",
        "\n",
        "#게임 시작\n"
      ]
    }
  ]
}