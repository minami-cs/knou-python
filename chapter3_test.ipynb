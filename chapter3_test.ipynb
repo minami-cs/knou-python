{
  "nbformat": 4,
  "nbformat_minor": 0,
  "metadata": {
    "colab": {
      "provenance": [],
      "mount_file_id": "1yLA30wiATGBNhUy7uUlA1P8f6UYfSZOi",
      "authorship_tag": "ABX9TyMs9PkrZ0OoVOiqvgkrZJWo",
      "include_colab_link": true
    },
    "kernelspec": {
      "name": "python3",
      "display_name": "Python 3"
    },
    "language_info": {
      "name": "python"
    }
  },
  "cells": [
    {
      "cell_type": "markdown",
      "metadata": {
        "id": "view-in-github",
        "colab_type": "text"
      },
      "source": [
        "<a href=\"https://colab.research.google.com/github/minami-cs/knou-python/blob/main/chapter3_test.ipynb\" target=\"_parent\"><img src=\"https://colab.research.google.com/assets/colab-badge.svg\" alt=\"Open In Colab\"/></a>"
      ]
    },
    {
      "cell_type": "code",
      "execution_count": 1,
      "metadata": {
        "colab": {
          "base_uri": "https://localhost:8080/"
        },
        "id": "hJiVOGPNyejO",
        "outputId": "1a2069a7-6d61-48e6-f607-8a07ac8d3bd0"
      },
      "outputs": [
        {
          "output_type": "execute_result",
          "data": {
            "text/plain": [
              "8"
            ]
          },
          "metadata": {},
          "execution_count": 1
        }
      ],
      "source": [
        "3 + 5\n",
        "# 코드 실행시 시간이 걸리는 이유는 원거리의 서버에 접속하여 코드 전송 후 실행 결과를 받아와야 하기 때문이며\n",
        "# 구글 클라우드 서비스(GCP)로부터 자원 할당에 시간이 소요된다."
      ]
    },
    {
      "cell_type": "markdown",
      "source": [
        "## **a는 수강 학점이고 수강 학점을 출력하는 코드**"
      ],
      "metadata": {
        "id": "Hvv19dXp0kFO"
      }
    },
    {
      "cell_type": "code",
      "source": [
        "a = 10\n",
        "print(a)"
      ],
      "metadata": {
        "colab": {
          "base_uri": "https://localhost:8080/"
        },
        "id": "BxkZYkr50Rh8",
        "outputId": "66681961-7faa-4168-f8a1-a763793e5cc9"
      },
      "execution_count": 2,
      "outputs": [
        {
          "output_type": "stream",
          "name": "stdout",
          "text": [
            "10\n"
          ]
        }
      ]
    }
  ]
}