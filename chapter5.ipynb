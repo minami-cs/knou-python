{
  "nbformat": 4,
  "nbformat_minor": 0,
  "metadata": {
    "colab": {
      "provenance": [],
      "include_colab_link": true
    },
    "kernelspec": {
      "name": "python3",
      "display_name": "Python 3"
    },
    "language_info": {
      "name": "python"
    }
  },
  "cells": [
    {
      "cell_type": "markdown",
      "metadata": {
        "id": "view-in-github",
        "colab_type": "text"
      },
      "source": [
        "<a href=\"https://colab.research.google.com/github/minami-cs/knou-python/blob/main/chapter5.ipynb\" target=\"_parent\"><img src=\"https://colab.research.google.com/assets/colab-badge.svg\" alt=\"Open In Colab\"/></a>"
      ]
    },
    {
      "cell_type": "markdown",
      "source": [
        "# 5강 2절"
      ],
      "metadata": {
        "id": "QaMMtoihlN9D"
      }
    },
    {
      "cell_type": "markdown",
      "source": [
        "삼각형 출력하기"
      ],
      "metadata": {
        "id": "zsVGhzcxlSh2"
      }
    },
    {
      "cell_type": "code",
      "execution_count": 2,
      "metadata": {
        "id": "Uzg7FWgclGzv",
        "colab": {
          "base_uri": "https://localhost:8080/"
        },
        "outputId": "67bfc41d-5ffb-48c5-a5e3-1be5978be262"
      },
      "outputs": [
        {
          "output_type": "stream",
          "name": "stdout",
          "text": [
            "*\n",
            "***\n",
            "*****\n",
            "*******\n",
            "   *\n",
            "  ***\n",
            " *****\n",
            "*******\n"
          ]
        }
      ],
      "source": [
        "# 순차 구조로 단순하게 직각삼각형 모양으로 출력\n",
        "print(\"*\")\n",
        "print(\"***\")\n",
        "print(\"*****\")\n",
        "print(\"*******\")\n",
        "\n",
        "# 순차 구조로 공백 삽입하여 이등변삼각형 모양으로 출력\n",
        "print(\"   *\")\n",
        "print(\"  ***\")\n",
        "print(\" *****\")\n",
        "print(\"*******\")"
      ]
    },
    {
      "cell_type": "code",
      "source": [
        "# 사용자의 입력을 받아들이는 input함수 사용\n",
        "# input 함수의 파라미터로 안내문구를 작성할 수 있다\n",
        "rad = input(\"반지름의 값을 입력하세요: \")"
      ],
      "metadata": {
        "colab": {
          "base_uri": "https://localhost:8080/"
        },
        "id": "FJCnB4jfnDNO",
        "outputId": "b31ad36c-2d4e-4480-cab2-4763206604ed"
      },
      "execution_count": 5,
      "outputs": [
        {
          "name": "stdout",
          "output_type": "stream",
          "text": [
            "반지름의 값을 입력하세요: 30\n"
          ]
        }
      ]
    },
    {
      "cell_type": "markdown",
      "source": [
        "원뿔 계산 프로그램 개선"
      ],
      "metadata": {
        "id": "o1aoIihhlrBZ"
      }
    },
    {
      "cell_type": "code",
      "source": [
        "# 반지름, 높이 값 할당\n",
        "rad = int(input(\"반지름 값을 입력하세요: \"))  # input()은 문자열로 반환하므로 int로 변환\n",
        "hei = int(input(\"높이 값을 입력하세요: \"))  # input()은 문자열로 반환하므로 int로 변환\n",
        "# 부피 출력\n",
        "print(\"부피의 값은 \", 1 / 3 * 3.14 * rad ** 2 * hei, \"입니다.\", sep=\"\") # sep 옵션으로 공백 조절\n",
        "# 겉넓이 출력\n",
        "print(\"겉넓이의 값은 \", 3.14 * rad ** 2 + 3.14 * rad * hei, \"입니다.\", sep=\"\")  # sep 옵션으로 공백 조절"
      ],
      "metadata": {
        "id": "jzJqpbKgluL7",
        "colab": {
          "base_uri": "https://localhost:8080/"
        },
        "outputId": "39ef408b-25db-4628-f3aa-b4de12f779db"
      },
      "execution_count": 16,
      "outputs": [
        {
          "output_type": "stream",
          "name": "stdout",
          "text": [
            "반지름 값을 입력하세요: 20\n",
            "높이 값을 입력하세요: 30\n",
            "부피의 값은 12559.999999999998입니다.\n",
            "겉넓이의 값은 3140.0입니다.\n"
          ]
        }
      ]
    }
  ]
}