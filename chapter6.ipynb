{
  "nbformat": 4,
  "nbformat_minor": 0,
  "metadata": {
    "colab": {
      "provenance": [],
      "include_colab_link": true
    },
    "kernelspec": {
      "name": "python3",
      "display_name": "Python 3"
    },
    "language_info": {
      "name": "python"
    }
  },
  "cells": [
    {
      "cell_type": "markdown",
      "metadata": {
        "id": "view-in-github",
        "colab_type": "text"
      },
      "source": [
        "<a href=\"https://colab.research.google.com/github/minami-cs/knou-python/blob/main/chapter6.ipynb\" target=\"_parent\"><img src=\"https://colab.research.google.com/assets/colab-badge.svg\" alt=\"Open In Colab\"/></a>"
      ]
    },
    {
      "cell_type": "markdown",
      "source": [
        "# 6장 1절"
      ],
      "metadata": {
        "id": "hckgpz65oDBv"
      }
    },
    {
      "cell_type": "code",
      "source": [
        "# 비교연산자를 활용한 비교연산식의 값은 boolean 타입의 데이터 (True, False)\n",
        "# 3 == 6\n",
        "\n",
        "# 비교연산식 결과를 변수에 담을 수도 있음\n",
        "light_on = 3 > 6\n",
        "print(light_on)"
      ],
      "metadata": {
        "colab": {
          "base_uri": "https://localhost:8080/"
        },
        "id": "01V_UpYt16CX",
        "outputId": "56821d3b-ebae-47da-ed5d-644a4ee5a235"
      },
      "execution_count": 9,
      "outputs": [
        {
          "output_type": "stream",
          "name": "stdout",
          "text": [
            "False\n"
          ]
        }
      ]
    },
    {
      "cell_type": "code",
      "source": [
        "suf = 10\n",
        "vol = 20\n",
        "isStop = suf == vol\n",
        "print(isStop)"
      ],
      "metadata": {
        "colab": {
          "base_uri": "https://localhost:8080/"
        },
        "id": "aAEY1eyi2qFL",
        "outputId": "306f7fa3-89ec-493d-9339-44dd6afee280"
      },
      "execution_count": 10,
      "outputs": [
        {
          "output_type": "stream",
          "name": "stdout",
          "text": [
            "False\n"
          ]
        }
      ]
    },
    {
      "cell_type": "code",
      "execution_count": 13,
      "metadata": {
        "id": "ZW1w8qQHoAm3",
        "colab": {
          "base_uri": "https://localhost:8080/"
        },
        "outputId": "cbb2d677-1a17-4e9d-e752-58cecd296490"
      },
      "outputs": [
        {
          "name": "stdout",
          "output_type": "stream",
          "text": [
            "반지름을 입력하세요:-40\n",
            "높이를 입력하세요:20\n"
          ]
        }
      ],
      "source": [
        "# 사용자가 잘못된 값을 입력하면 실행되지 않도록 해보자 (if 이용)\n",
        "\n",
        "# 반지름 사용자 입력\n",
        "rad = int(input(\"반지름을 입력하세요:\"))\n",
        "# 높이 사용자 입력\n",
        "hei = int(input(\"높이를 입력하세요:\"))\n",
        "\n",
        "if rad > 0:\n",
        "  # 부피&겉넓이 계산\n",
        "  vol = 1/3 * 3.14 * rad ** 2 * hei\n",
        "  suf = 3.14 * rad ** 2 + 3.14 * rad * hei\n",
        "  print(\"원뿔의 부피는\" ,vol, \"입니다.\")\n",
        "  print(\"원뿔의 겉넓이는\" ,suf, \"입니다\")"
      ]
    },
    {
      "cell_type": "markdown",
      "source": [
        "# 6강 2절"
      ],
      "metadata": {
        "id": "cquz2vj9oGml"
      }
    },
    {
      "cell_type": "code",
      "source": [
        "temp = 20\n",
        "fruit = \"apple\"\n",
        "\n",
        "print(not temp <= 27) # 논리연산자 사용"
      ],
      "metadata": {
        "colab": {
          "base_uri": "https://localhost:8080/"
        },
        "id": "2uI8Afh76oXL",
        "outputId": "4aec6804-dd4d-4fc9-ac0c-cef4bf114377"
      },
      "execution_count": 18,
      "outputs": [
        {
          "output_type": "stream",
          "name": "stdout",
          "text": [
            "False\n"
          ]
        }
      ]
    },
    {
      "cell_type": "code",
      "source": [
        "# 반지름 사용자 입력\n",
        "rad = int(input(\"반지름을 입력하세요:\"))\n",
        "# 높이 사용자 입력\n",
        "hei = int(input(\"높이를 입력하세요:\"))\n",
        "\n",
        "if rad > 0 and hei > 0:\n",
        "  # 부피&겉넓이 계산\n",
        "  vol = 1/3 * 3.14 * rad ** 2 * hei\n",
        "  suf = 3.14 * rad ** 2 + 3.14 * rad * hei\n",
        "  print(\"원뿔의 부피는\" ,vol, \"입니다.\")\n",
        "  print(\"원뿔의 겉넓이는\" ,suf, \"입니다\")"
      ],
      "metadata": {
        "colab": {
          "base_uri": "https://localhost:8080/"
        },
        "id": "PMOgLCDk7Xyu",
        "outputId": "c4c1dfbc-da98-4d40-f7a6-b35f7edf6cbb"
      },
      "execution_count": 20,
      "outputs": [
        {
          "name": "stdout",
          "output_type": "stream",
          "text": [
            "반지름을 입력하세요:20\n",
            "높이를 입력하세요:-30\n"
          ]
        }
      ]
    },
    {
      "cell_type": "markdown",
      "source": [
        "# 6강 3절"
      ],
      "metadata": {
        "id": "cQQVbHkr_Mjq"
      }
    },
    {
      "cell_type": "markdown",
      "source": [
        "else를 이용한 원뿔 프로그램 개선"
      ],
      "metadata": {
        "id": "lW0ANkH8_R4u"
      }
    },
    {
      "cell_type": "code",
      "source": [
        "# 반지름 사용자 입력\n",
        "rad = int(input(\"반지름을 입력하세요:\"))\n",
        "# 높이 사용자 입력\n",
        "hei = int(input(\"높이를 입력하세요:\"))\n",
        "\n",
        "if rad > 0 and hei > 0:\n",
        "  # 부피&겉넓이 계산\n",
        "  vol = 1/3 * 3.14 * rad ** 2 * hei\n",
        "  suf = 3.14 * rad ** 2 + 3.14 * rad * hei\n",
        "  print(\"원뿔의 부피는\" ,vol, \"입니다.\")\n",
        "  print(\"원뿔의 겉넓이는\" ,suf, \"입니다\")\n",
        "else:\n",
        "  print(\"반지름과 높이의 값을 모두 양수로 입력해주세요\")"
      ],
      "metadata": {
        "colab": {
          "base_uri": "https://localhost:8080/"
        },
        "id": "A-3xR-Hu_WEC",
        "outputId": "d7b39e6f-1573-4f59-c330-b613c712b126"
      },
      "execution_count": 21,
      "outputs": [
        {
          "output_type": "stream",
          "name": "stdout",
          "text": [
            "반지름을 입력하세요:20\n",
            "높이를 입력하세요:-30\n",
            "반지름과 높이의 값을 모두 양수로 입력해주세요\n"
          ]
        }
      ]
    },
    {
      "cell_type": "markdown",
      "source": [
        "가장 큰 수 찾는 프로그램"
      ],
      "metadata": {
        "id": "_2ZlVieZpKuT"
      }
    },
    {
      "cell_type": "code",
      "source": [
        "# A, B, C 사용자 입력\n",
        "A = int(input(\"A 입력: \"))\n",
        "B = int(input(\"B 입력: \"))\n",
        "C = int(input(\"C 입력: \"))\n",
        "\n",
        "# A, B, C 중 가장 큰 수 출력\n",
        "# 내장 함수 max(A, B, C) 사용 가능\n",
        "# 중첩 선택 구조로 구현\n",
        "if A > B:\n",
        "  if A > C:\n",
        "    print(A)\n",
        "  else:\n",
        "    print(C)\n",
        "else:\n",
        "  if B > C:\n",
        "    print(B)\n",
        "  else:\n",
        "    print(C)"
      ],
      "metadata": {
        "id": "SuPkvKRSoJBE",
        "colab": {
          "base_uri": "https://localhost:8080/"
        },
        "outputId": "ef80dd0a-c592-4eb7-915d-9c4b033d6286"
      },
      "execution_count": 25,
      "outputs": [
        {
          "output_type": "stream",
          "name": "stdout",
          "text": [
            "A 입력: 10\n",
            "B 입력: 20\n",
            "C 입력: 30\n",
            "30\n"
          ]
        }
      ]
    }
  ]
}